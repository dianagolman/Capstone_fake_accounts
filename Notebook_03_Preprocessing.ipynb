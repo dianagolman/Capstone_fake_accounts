{
 "cells": [
  {
   "cell_type": "code",
   "execution_count": 21,
   "id": "9aff3530",
   "metadata": {},
   "outputs": [],
   "source": [
    "import numpy as np \n",
    "import pandas as pd \n",
    "import matplotlib.pyplot as plt \n",
    "import seaborn as sns\n",
    "import scipy.stats as stats\n",
    "import os\n",
    "import pickle\n",
    "from sklearn import __version__ as sklearn_version\n",
    "from sklearn.decomposition import PCA\n",
    "from sklearn.preprocessing import scale\n",
    "from sklearn.model_selection import train_test_split, cross_validate, GridSearchCV, learning_curve\n",
    "from sklearn.preprocessing import StandardScaler, MinMaxScaler\n",
    "from sklearn.dummy import DummyRegressor\n",
    "from sklearn.linear_model import LinearRegression\n",
    "from sklearn.ensemble import RandomForestRegressor\n",
    "from sklearn.metrics import r2_score, mean_squared_error, mean_absolute_error\n",
    "from sklearn.pipeline import make_pipeline\n",
    "from sklearn.impute import SimpleImputer\n",
    "from sklearn.feature_selection import SelectKBest, f_regression"
   ]
  },
  {
   "cell_type": "code",
   "execution_count": 5,
   "id": "e3166077",
   "metadata": {},
   "outputs": [
    {
     "name": "stdout",
     "output_type": "stream",
     "text": [
      "<class 'pandas.core.frame.DataFrame'>\n",
      "RangeIndex: 64243 entries, 0 to 64242\n",
      "Data columns (total 25 columns):\n",
      " #   Column           Non-Null Count  Dtype  \n",
      "---  ------           --------------  -----  \n",
      " 0   Unnamed: 0       64243 non-null  int64  \n",
      " 1   Unnamed: 0.1     64243 non-null  int64  \n",
      " 2   posts            64243 non-null  int64  \n",
      " 3   flw              64243 non-null  int64  \n",
      " 4   flg              64243 non-null  int64  \n",
      " 5   pic              64243 non-null  int64  \n",
      " 6   link             64243 non-null  int64  \n",
      " 7   caption_len_avg  64243 non-null  int64  \n",
      " 8   cap_zero_per     64243 non-null  float64\n",
      " 9   no_image_per     64243 non-null  float64\n",
      " 10  likes_rate       64243 non-null  float64\n",
      " 11  comment_rate     64243 non-null  float64\n",
      " 12  loc_tag          64243 non-null  float64\n",
      " 13  hash_count       64243 non-null  float64\n",
      " 14  cosine_sim_avg   64243 non-null  float64\n",
      " 15  post_interval    64243 non-null  float64\n",
      " 16  class            64243 non-null  object \n",
      " 17  posts_a          64243 non-null  float64\n",
      " 18  flw_a            64243 non-null  float64\n",
      " 19  flg_a            64243 non-null  float64\n",
      " 20  likes_a          64243 non-null  float64\n",
      " 21  hash_a           64243 non-null  float64\n",
      " 22  cap_avg_a        64243 non-null  float64\n",
      " 23  comment_r_a      64243 non-null  float64\n",
      " 24  post_interval_a  64243 non-null  float64\n",
      "dtypes: float64(16), int64(8), object(1)\n",
      "memory usage: 12.3+ MB\n"
     ]
    }
   ],
   "source": [
    "account_t=pd.read_csv('../accounts_data_trim.csv')\n",
    "account_t.info()"
   ]
  },
  {
   "cell_type": "code",
   "execution_count": 6,
   "id": "ada8e3e3",
   "metadata": {},
   "outputs": [
    {
     "data": {
      "text/plain": [
       "Index(['Unnamed: 0', 'Unnamed: 0.1', 'posts', 'flw', 'flg', 'pic', 'link',\n",
       "       'caption_len_avg', 'cap_zero_per', 'no_image_per', 'likes_rate',\n",
       "       'comment_rate', 'loc_tag', 'hash_count', 'cosine_sim_avg',\n",
       "       'post_interval', 'class', 'posts_a', 'flw_a', 'flg_a', 'likes_a',\n",
       "       'hash_a', 'cap_avg_a', 'comment_r_a', 'post_interval_a'],\n",
       "      dtype='object')"
      ]
     },
     "execution_count": 6,
     "metadata": {},
     "output_type": "execute_result"
    }
   ],
   "source": [
    "account_t.columns"
   ]
  },
  {
   "cell_type": "code",
   "execution_count": 15,
   "id": "b5f62d36",
   "metadata": {},
   "outputs": [
    {
     "data": {
      "text/html": [
       "<div>\n",
       "<style scoped>\n",
       "    .dataframe tbody tr th:only-of-type {\n",
       "        vertical-align: middle;\n",
       "    }\n",
       "\n",
       "    .dataframe tbody tr th {\n",
       "        vertical-align: top;\n",
       "    }\n",
       "\n",
       "    .dataframe thead th {\n",
       "        text-align: right;\n",
       "    }\n",
       "</style>\n",
       "<table border=\"1\" class=\"dataframe\">\n",
       "  <thead>\n",
       "    <tr style=\"text-align: right;\">\n",
       "      <th></th>\n",
       "      <th>cap_zero_per</th>\n",
       "      <th>no_image_per</th>\n",
       "      <th>loc_tag</th>\n",
       "      <th>class</th>\n",
       "      <th>posts_a</th>\n",
       "      <th>flw_a</th>\n",
       "      <th>flg_a</th>\n",
       "      <th>likes_a</th>\n",
       "      <th>hash_a</th>\n",
       "      <th>cap_avg_a</th>\n",
       "      <th>comment_r_a</th>\n",
       "      <th>post_interval_a</th>\n",
       "      <th>pic</th>\n",
       "      <th>link</th>\n",
       "    </tr>\n",
       "  </thead>\n",
       "  <tbody>\n",
       "    <tr>\n",
       "      <th>0</th>\n",
       "      <td>0.0</td>\n",
       "      <td>0.0</td>\n",
       "      <td>0.000</td>\n",
       "      <td>f</td>\n",
       "      <td>44.0</td>\n",
       "      <td>48.0</td>\n",
       "      <td>325.0</td>\n",
       "      <td>0.00</td>\n",
       "      <td>0.0</td>\n",
       "      <td>12.0</td>\n",
       "      <td>0.00</td>\n",
       "      <td>0.094985</td>\n",
       "      <td>1</td>\n",
       "      <td>0</td>\n",
       "    </tr>\n",
       "    <tr>\n",
       "      <th>1</th>\n",
       "      <td>0.0</td>\n",
       "      <td>1.0</td>\n",
       "      <td>0.000</td>\n",
       "      <td>f</td>\n",
       "      <td>10.0</td>\n",
       "      <td>66.0</td>\n",
       "      <td>321.0</td>\n",
       "      <td>14.39</td>\n",
       "      <td>1.5</td>\n",
       "      <td>213.0</td>\n",
       "      <td>1.97</td>\n",
       "      <td>230.412857</td>\n",
       "      <td>1</td>\n",
       "      <td>0</td>\n",
       "    </tr>\n",
       "    <tr>\n",
       "      <th>2</th>\n",
       "      <td>0.0</td>\n",
       "      <td>1.0</td>\n",
       "      <td>0.000</td>\n",
       "      <td>f</td>\n",
       "      <td>33.0</td>\n",
       "      <td>970.0</td>\n",
       "      <td>308.0</td>\n",
       "      <td>10.10</td>\n",
       "      <td>2.5</td>\n",
       "      <td>436.0</td>\n",
       "      <td>0.30</td>\n",
       "      <td>43.569939</td>\n",
       "      <td>1</td>\n",
       "      <td>1</td>\n",
       "    </tr>\n",
       "    <tr>\n",
       "      <th>3</th>\n",
       "      <td>1.0</td>\n",
       "      <td>0.0</td>\n",
       "      <td>0.000</td>\n",
       "      <td>f</td>\n",
       "      <td>70.0</td>\n",
       "      <td>86.0</td>\n",
       "      <td>360.0</td>\n",
       "      <td>0.78</td>\n",
       "      <td>0.0</td>\n",
       "      <td>0.0</td>\n",
       "      <td>0.06</td>\n",
       "      <td>5.859799</td>\n",
       "      <td>1</td>\n",
       "      <td>0</td>\n",
       "    </tr>\n",
       "    <tr>\n",
       "      <th>4</th>\n",
       "      <td>0.0</td>\n",
       "      <td>0.0</td>\n",
       "      <td>0.667</td>\n",
       "      <td>f</td>\n",
       "      <td>3.0</td>\n",
       "      <td>21.0</td>\n",
       "      <td>285.0</td>\n",
       "      <td>14.29</td>\n",
       "      <td>0.0</td>\n",
       "      <td>93.0</td>\n",
       "      <td>0.00</td>\n",
       "      <td>0.126019</td>\n",
       "      <td>1</td>\n",
       "      <td>0</td>\n",
       "    </tr>\n",
       "  </tbody>\n",
       "</table>\n",
       "</div>"
      ],
      "text/plain": [
       "   cap_zero_per  no_image_per  loc_tag class  posts_a  flw_a  flg_a  likes_a  \\\n",
       "0           0.0           0.0    0.000     f     44.0   48.0  325.0     0.00   \n",
       "1           0.0           1.0    0.000     f     10.0   66.0  321.0    14.39   \n",
       "2           0.0           1.0    0.000     f     33.0  970.0  308.0    10.10   \n",
       "3           1.0           0.0    0.000     f     70.0   86.0  360.0     0.78   \n",
       "4           0.0           0.0    0.667     f      3.0   21.0  285.0    14.29   \n",
       "\n",
       "   hash_a  cap_avg_a  comment_r_a  post_interval_a  pic  link  \n",
       "0     0.0       12.0         0.00         0.094985    1     0  \n",
       "1     1.5      213.0         1.97       230.412857    1     0  \n",
       "2     2.5      436.0         0.30        43.569939    1     1  \n",
       "3     0.0        0.0         0.06         5.859799    1     0  \n",
       "4     0.0       93.0         0.00         0.126019    1     0  "
      ]
     },
     "execution_count": 15,
     "metadata": {},
     "output_type": "execute_result"
    }
   ],
   "source": [
    "#Create dummy or indicator features from categorical features\n",
    "#Split into testing and training datasets \n",
    "\n",
    "#dfo=account_t.select_dtypes(include=['object']) # to select object type columns\n",
    "dfo=account_t[['pic','link']] # all data was numeric \n",
    "df_droped=account_t.drop(['Unnamed: 0', 'Unnamed: 0.1','pic','link', 'posts', 'flw', 'flg', 'likes_rate','hash_count', 'caption_len_avg', 'comment_rate', 'post_interval','cosine_sim_avg' ], axis=1)\n",
    "df = pd.concat([df_droped, pd.get_dummies(dfo)], axis=1)\n",
    "df.head()"
   ]
  },
  {
   "cell_type": "code",
   "execution_count": 14,
   "id": "8ef48bfe",
   "metadata": {},
   "outputs": [
    {
     "data": {
      "text/plain": [
       "Unnamed: 0         False\n",
       "Unnamed: 0.1       False\n",
       "cap_zero_per       False\n",
       "no_image_per       False\n",
       "loc_tag            False\n",
       "class              False\n",
       "posts_a            False\n",
       "flw_a              False\n",
       "flg_a              False\n",
       "likes_a            False\n",
       "hash_a             False\n",
       "cap_avg_a          False\n",
       "comment_r_a        False\n",
       "post_interval_a    False\n",
       "pic                False\n",
       "link               False\n",
       "dtype: bool"
      ]
     },
     "execution_count": 14,
     "metadata": {},
     "output_type": "execute_result"
    }
   ],
   "source": [
    "# Check for missing data again\n",
    "df.isnull().any()\n",
    "#if there are missing values we'll use to fill in any missing values\n",
    "#X_d_median = X_train.median()"
   ]
  },
  {
   "cell_type": "code",
   "execution_count": 22,
   "id": "2f71441b",
   "metadata": {},
   "outputs": [],
   "source": [
    "# split the dataset\n",
    "X=df.drop(['class'], axis=1)\n",
    "y=df['class']\n",
    "\n",
    "X_train, X_test, y_train, y_test=train_test_split(X, y, test_size=0.2, random_state=24)"
   ]
  },
  {
   "cell_type": "code",
   "execution_count": 24,
   "id": "ddf9297a",
   "metadata": {},
   "outputs": [],
   "source": [
    "# Standardize the magnitude of numeric features using a scaler- since some of the features are percintage 0 to 1 \n",
    "#and some are big numbers. \n",
    "\n",
    "scaler=StandardScaler()\n",
    "scaler.fit(X_train)\n",
    "X_train_s=scaler.transform(X_train)\n",
    "X_test_s=scaler.transform(X_test)"
   ]
  },
  {
   "cell_type": "code",
   "execution_count": null,
   "id": "2d832ec6",
   "metadata": {},
   "outputs": [],
   "source": [
    "# Question 1- My categorical features were coded as int data type, is it good for the model?\n",
    "            # do we need them to be int or object for the model to work (\"correctly understanding the data\")\n",
    "# Question 2- There is no need to scale the categorical or the dummy variables but is it a mistake \n",
    "              #to transform the two i have (0/1) in the scaler"
   ]
  }
 ],
 "metadata": {
  "kernelspec": {
   "display_name": "Python 3",
   "language": "python",
   "name": "python3"
  },
  "language_info": {
   "codemirror_mode": {
    "name": "ipython",
    "version": 3
   },
   "file_extension": ".py",
   "mimetype": "text/x-python",
   "name": "python",
   "nbconvert_exporter": "python",
   "pygments_lexer": "ipython3",
   "version": "3.8.8"
  }
 },
 "nbformat": 4,
 "nbformat_minor": 5
}
