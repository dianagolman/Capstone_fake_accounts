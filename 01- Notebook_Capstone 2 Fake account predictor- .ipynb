{
 "cells": [
  {
   "cell_type": "markdown",
   "id": "22ac2091",
   "metadata": {},
   "source": [
    "Capstone 2 Fake account predictor\n",
    "\n",
    "A publicly available dataset (on Kaggle) was used. It has 65325, user accounts identified as fake or not fake. The data will be analyzed and a model will be created. The model will allow us to predict is an account is fake or real. \n",
    "\n",
    "The two values classifier was used:\n",
    "2-class User classes : r (real/authentic user), f (fake user / bought followers)\n",
    "\n",
    "Instagram:\n",
    "https://www.kaggle.com/krpurba/fakeauthentic-user-instagram?select=user_fake_authentic_4class.csv\n",
    "\n",
    "\n",
    "reference : \n",
    "K. R. Purba, D. Asirvatham and R. K. Murugesan, \"Classification of instagram fake users using supervised machine learning algorithms,\" International Journal of Electrical and Computer Engineering (IJECE), vol. 10, no. 3, pp. 2763-2772, 2020.\n",
    "The dataset was collected using web scraping from third-party Instagram websites, to capture their metadata and up to 12 latest media posts from each user. The collection process was executed from September 1st, 2019, until September 20th, 2019. The dataset contains authentic users and fake users, which were filtered using human annotators.\n",
    "The authentic users were taken from followers of 24 private university pages (8 Indonesian, 8 Malaysian, 8 Australian) on Instagram. To reduce the number of users, they are picked using proportional random sampling based on their source university. All private users were removed, which is a total of 31,335 out of 63,795 users (49.11%). The final number of public users used in this research was 32,460 users.\n",
    "\n",
    "There are two files avalible one with 2 classes and another one with 4 :\n",
    "2-class User classes : r (real/authentic user), f (fake user / bought followers)\n",
    "4-class User classes : r (authentic/real user), a (active fake user), i (inactive fake user), s (spammer fake user)\n"
   ]
  },
  {
   "cell_type": "code",
   "execution_count": 156,
   "id": "a26440ff",
   "metadata": {},
   "outputs": [],
   "source": [
    "#Imported libraries:\n",
    "\n",
    "import pandas as pd\n",
    "import matplotlib.pyplot as plt\n",
    "import seaborn as sns\n",
    "import numpy as np\n",
    "import os\n",
    "import ssl\n",
    "#from library.sb_utils import save_file"
   ]
  },
  {
   "cell_type": "code",
   "execution_count": 18,
   "id": "23da6f43",
   "metadata": {},
   "outputs": [
    {
     "name": "stdout",
     "output_type": "stream",
     "text": [
      "   pos  flw  flg   bl  pic  lin   cl   cz   ni    erl   erc     lt   hc   pr  \\\n",
      "0   44   48  325   33    1    0   12  0.0  0.0   0.00  0.00  0.000  0.0  0.0   \n",
      "1   10   66  321  150    1    0  213  0.0  1.0  14.39  1.97  0.000  1.5  0.0   \n",
      "2   33  970  308  101    1    1  436  0.0  1.0  10.10  0.30  0.000  2.5  0.0   \n",
      "3   70   86  360   14    1    0    0  1.0  0.0   0.78  0.06  0.000  0.0  0.0   \n",
      "4    3   21  285   73    1    0   93  0.0  0.0  14.29  0.00  0.667  0.0  0.0   \n",
      "\n",
      "      fo        cs          pi class  \n",
      "0  0.000  0.111111    0.094985     f  \n",
      "1  0.000  0.206826  230.412857     f  \n",
      "2  0.056  0.572174   43.569939     f  \n",
      "3  0.000  1.000000    5.859799     f  \n",
      "4  0.000  0.300494    0.126019     f  \n"
     ]
    }
   ],
   "source": [
    "# Reading a scv file:\n",
    "account_file=pd.read_csv('../Springboard/user_fake_authentic_2class.csv')\n",
    "print(account_file.head())"
   ]
  },
  {
   "cell_type": "code",
   "execution_count": 19,
   "id": "799a73a2",
   "metadata": {},
   "outputs": [],
   "source": [
    "account_file.columns\n",
    "account_file.rename(columns={'pos':'posts', 'bl': 'bio_len','lin':'link', 'cl':'caption_len_avg', 'cz':'cap_zero_per','ni': 'no_image_per', 'erl': 'likes_rate', 'erc':'comment_rate','lt':'loc_tag','hc':'hash_count','fo':\"fo_keyword_avg\", 'cs':'cosine_sim_avg', 'pi':'post_interval'}, inplace=True)"
   ]
  },
  {
   "cell_type": "code",
   "execution_count": 20,
   "id": "f1a4e71c",
   "metadata": {},
   "outputs": [
    {
     "name": "stdout",
     "output_type": "stream",
     "text": [
      "<class 'pandas.core.frame.DataFrame'>\n",
      "RangeIndex: 65326 entries, 0 to 65325\n",
      "Data columns (total 18 columns):\n",
      " #   Column           Non-Null Count  Dtype  \n",
      "---  ------           --------------  -----  \n",
      " 0   posts            65326 non-null  int64  \n",
      " 1   flw              65326 non-null  int64  \n",
      " 2   flg              65326 non-null  int64  \n",
      " 3   bio_len          65326 non-null  int64  \n",
      " 4   pic              65326 non-null  int64  \n",
      " 5   link             65326 non-null  int64  \n",
      " 6   caption_len_avg  65326 non-null  int64  \n",
      " 7   cap_zero_per     65326 non-null  float64\n",
      " 8   no_image_per     65326 non-null  float64\n",
      " 9   likes_rate       65326 non-null  float64\n",
      " 10  comment_rate     65326 non-null  float64\n",
      " 11  loc_tag          65326 non-null  float64\n",
      " 12  hash_count       65326 non-null  float64\n",
      " 13  pr               65326 non-null  float64\n",
      " 14  fo_keyword_avg   65326 non-null  float64\n",
      " 15  cosine_sim_avg   65326 non-null  float64\n",
      " 16  post_interval    65326 non-null  float64\n",
      " 17  class            65326 non-null  object \n",
      "dtypes: float64(10), int64(7), object(1)\n",
      "memory usage: 9.0+ MB\n"
     ]
    }
   ],
   "source": [
    "account_file.info()"
   ]
  },
  {
   "cell_type": "code",
   "execution_count": 21,
   "id": "d586de3f",
   "metadata": {},
   "outputs": [
    {
     "name": "stdout",
     "output_type": "stream",
     "text": [
      "posts              0\n",
      "flw                0\n",
      "flg                0\n",
      "bio_len            0\n",
      "pic                0\n",
      "link               0\n",
      "caption_len_avg    0\n",
      "cap_zero_per       0\n",
      "no_image_per       0\n",
      "likes_rate         0\n",
      "comment_rate       0\n",
      "loc_tag            0\n",
      "hash_count         0\n",
      "pr                 0\n",
      "fo_keyword_avg     0\n",
      "cosine_sim_avg     0\n",
      "post_interval      0\n",
      "class              0\n",
      "dtype: int64\n"
     ]
    }
   ],
   "source": [
    "missing=account_file.isnull().sum()\n",
    "\n",
    "#missing = pd.concat([account_file.isnull().sum(), 100 * account_file.isnull().mean()], axis=1)\n",
    "#missing.columns=['count', '%']\n",
    "#missing.sort_values(by=\"%\", ascending=False)\n",
    "\n",
    "print(missing)"
   ]
  },
  {
   "cell_type": "code",
   "execution_count": 22,
   "id": "e88d637e",
   "metadata": {},
   "outputs": [
    {
     "name": "stdout",
     "output_type": "stream",
     "text": [
      "              posts           flw           flg       bio_len           pic  \\\n",
      "count  65326.000000  6.532600e+04  65326.000000  65326.000000  65326.000000   \n",
      "mean     176.571227  1.183077e+03   2310.519211     57.497061      0.951765   \n",
      "std      723.470655  2.170802e+04   2592.096104     64.129260      0.214264   \n",
      "min        0.000000  0.000000e+00      0.000000      0.000000      0.000000   \n",
      "25%        6.000000  1.230000e+02    394.000000      0.000000      1.000000   \n",
      "50%       30.000000  3.380000e+02    995.000000     32.000000      1.000000   \n",
      "75%      124.000000  8.170000e+02   3600.000000    110.000000      1.000000   \n",
      "max    76200.000000  3.900000e+06   8800.000000    555.000000      1.000000   \n",
      "\n",
      "               link  caption_len_avg  cap_zero_per  no_image_per  \\\n",
      "count  65326.000000     65326.000000  65326.000000  65326.000000   \n",
      "mean       0.281925       136.520344      0.250012      0.193229   \n",
      "std        0.449940       215.714486      0.337891      0.252939   \n",
      "min        0.000000        -1.000000      0.000000      0.000000   \n",
      "25%        0.000000         8.000000      0.000000      0.000000   \n",
      "50%        0.000000        46.000000      0.055556      0.059000   \n",
      "75%        1.000000       170.000000      0.444444      0.333000   \n",
      "max        1.000000      3644.000000      1.000000      1.000000   \n",
      "\n",
      "         likes_rate  comment_rate       loc_tag    hash_count            pr  \\\n",
      "count  65326.000000  65326.000000  65326.000000  65326.000000  65326.000000   \n",
      "mean      19.146641      1.139421      0.208877      0.507796      0.032745   \n",
      "std      121.047570      5.810627      0.300362      1.156921      0.220987   \n",
      "min        0.000000      0.000000      0.000000      0.000000      0.000000   \n",
      "25%        2.730000      0.080000      0.000000      0.000000      0.000000   \n",
      "50%        9.450000      0.440000      0.000000      0.077000      0.000000   \n",
      "75%       18.680000      1.040000      0.333000      0.611000      0.000000   \n",
      "max    26650.000000   1009.090027      1.000000     30.000000     20.000000   \n",
      "\n",
      "       fo_keyword_avg  cosine_sim_avg  post_interval  \n",
      "count    65326.000000    65326.000000   65326.000000  \n",
      "mean         0.052837        0.299098     496.475193  \n",
      "std          0.519058        0.349604     944.905389  \n",
      "min          0.000000        0.000000       0.000000  \n",
      "25%          0.000000        0.033327      24.571458  \n",
      "50%          0.000000        0.136915     183.227943  \n",
      "75%          0.000000        0.456342     580.771927  \n",
      "max         58.000000        1.000000   26786.134766  \n"
     ]
    }
   ],
   "source": [
    "print(account_file.describe())"
   ]
  },
  {
   "cell_type": "markdown",
   "id": "5fa3fd07",
   "metadata": {},
   "source": [
    "There are some columns that we have take a closer look at their distribution and values.\n",
    "Dichotomous values were assined to columns: pic, link"
   ]
  },
  {
   "cell_type": "code",
   "execution_count": 23,
   "id": "1dc59963",
   "metadata": {},
   "outputs": [
    {
     "data": {
      "image/png": "[encoded data removed]",
      "text/plain": [
       "<Figure size 216x216 with 1 Axes>"
      ]
     },
     "metadata": {},
     "output_type": "display_data"
    },
    {
     "data": {
      "image/png": "[encoded data removed]",
      "text/plain": [
       "<Figure size 216x216 with 1 Axes>"
      ]
     },
     "metadata": {},
     "output_type": "display_data"
    },
    {
     "data": {
      "image/png": "[encoded data removed]",
      "text/plain": [
       "<Figure size 216x216 with 1 Axes>"
      ]
     },
     "metadata": {},
     "output_type": "display_data"
    }
   ],
   "source": [
    "#print(account_file.pic.value_counts())\n",
    "account_file.pic.value_counts().plot(kind=\"pie\", labels=[\"picture\", \" no picture\"], figsize=(3,3), autopct='%1.1f%%')\n",
    "plt.title(\"Users with pictures\")\n",
    "#plt.legend()\n",
    "plt.show()\n",
    "#print(account_file.link.value_counts())\n",
    "account_file.link.value_counts().plot(kind=\"pie\", labels=[\"no link\", \"link\"], figsize=(3,3), autopct='%1.1f%%')\n",
    "plt.title(\"Percentage of user who have an external URLs\")\n",
    "plt.show()\n",
    "account_file['class'].value_counts().plot(kind=\"pie\", labels=[\"fake\", \"real\"], figsize=(3,3), autopct='%1.1f%%')\n",
    "plt.title(\"Percentage of real and fake users\")\n",
    "plt.show()"
   ]
  },
  {
   "cell_type": "code",
   "execution_count": 24,
   "id": "68f2912f",
   "metadata": {},
   "outputs": [
    {
     "data": {
      "image/png": "[encoded data removed]",
      "text/plain": [
       "<Figure size 1080x720 with 20 Axes>"
      ]
     },
     "metadata": {
      "needs_background": "light"
     },
     "output_type": "display_data"
    }
   ],
   "source": [
    "account_file.hist(figsize=(15, 10))\n",
    "plt.subplots_adjust(hspace=0.5);"
   ]
  },
  {
   "cell_type": "code",
   "execution_count": 25,
   "id": "886d21e7",
   "metadata": {},
   "outputs": [
    {
     "name": "stdout",
     "output_type": "stream",
     "text": [
      "        count          %\n",
      "0.000   58761  89.950403\n",
      "0.056    2092   3.202400\n",
      "0.111     794   1.215443\n",
      "0.167     386   0.590883\n",
      "0.222     299   0.457704\n",
      "...       ...        ...\n",
      "20.000      1   0.001531\n",
      "1.700       1   0.001531\n",
      "1.357       1   0.001531\n",
      "18.000      1   0.001531\n",
      "3.750       1   0.001531\n",
      "\n",
      "[199 rows x 2 columns]\n"
     ]
    }
   ],
   "source": [
    "# using promotional keywords('pr') showed low numbers, this is because 89% of the values were 0.\n",
    "pr_view = pd.concat([account_file.pr.value_counts(), 100 * account_file.pr.value_counts()/len(account_file.pr)], axis=1)\n",
    "pr_view.columns=['count', '%']\n",
    "pr_view=pr_view.sort_values(by=\"%\", ascending=False)\n",
    "print(pr_view)"
   ]
  },
  {
   "cell_type": "code",
   "execution_count": 26,
   "id": "4c06c6aa",
   "metadata": {},
   "outputs": [
    {
     "name": "stdout",
     "output_type": "stream",
     "text": [
      "       count          %\n",
      "0.000  54914  84.061476\n",
      "0.056   4175   6.391023\n",
      "0.111   1770   2.709488\n",
      "0.167    734   1.123596\n",
      "0.222    410   0.627621\n",
      "...      ...        ...\n",
      "0.238      1   0.001531\n",
      "0.769      1   0.001531\n",
      "6.667      1   0.001531\n",
      "3.611      1   0.001531\n",
      "3.571      1   0.001531\n",
      "\n",
      "[304 rows x 2 columns]\n"
     ]
    }
   ],
   "source": [
    "#folowing related keywords avarage use showed low numbers, this is because 84% of the values were 0.\n",
    "var_view = pd.concat([account_file.fo_keyword_avg.value_counts(), 100 * account_file.fo_keyword_avg.value_counts()/len(account_file.fo_keyword_avg)], axis=1)\n",
    "var_view.columns=['count', '%']\n",
    "var_view=var_view.sort_values(by=\"%\", ascending=False)\n",
    "print(var_view)"
   ]
  },
  {
   "cell_type": "code",
   "execution_count": 159,
   "id": "d8ef4789",
   "metadata": {},
   "outputs": [
    {
     "name": "stdout",
     "output_type": "stream",
     "text": [
      "       count          %\n",
      "0.000  58761  89.950403\n",
      "0.056   2092   3.202400\n",
      "0.111    794   1.215443\n",
      "0.167    386   0.590883\n",
      "0.222    299   0.457704\n",
      "...      ...        ...\n",
      "2.429      1   0.001531\n",
      "1.786      1   0.001531\n",
      "0.647      1   0.001531\n",
      "0.368      1   0.001531\n",
      "3.750      1   0.001531\n",
      "\n",
      "[199 rows x 2 columns]\n"
     ]
    }
   ],
   "source": [
    "bio_view = pd.concat([account_file['bio_len'].value_counts(), 100 * account_file['bio_len'].value_counts()/len(account_file['bio_len'])], axis=1)\n",
    "bio_view.columns=['count', '%']\n",
    "bio_view=pr_view.sort_values(by=\"%\", ascending=False)\n",
    "print(bio_view)\n",
    "# Almost 90% of the values are 0."
   ]
  },
  {
   "cell_type": "code",
   "execution_count": 27,
   "id": "f9824f96",
   "metadata": {},
   "outputs": [
    {
     "name": "stdout",
     "output_type": "stream",
     "text": [
      "3900000\n",
      "10600.0\n",
      "         flw class\n",
      "8      23700     f\n",
      "10     11300     f\n",
      "64     12700     f\n",
      "91     17500     f\n",
      "179    16300     f\n",
      "...      ...   ...\n",
      "65036  30100     r\n",
      "65085  11500     r\n",
      "65107  18700     r\n",
      "65108  52800     r\n",
      "65136  22900     r\n",
      "\n",
      "[648 rows x 2 columns]\n"
     ]
    }
   ],
   "source": [
    "# The column of how many folowers a user has was very skewed , the max was unusually high. \n",
    "#Some of the higher values are real accounts and some are not.\n",
    "\n",
    "account_file.flw.value_counts()\n",
    "print(account_file.flw.max())\n",
    "\n",
    "per_nn_flw=account_file.flw.quantile(0.99)\n",
    "\n",
    "print(per_nn_flw)\n",
    "\n",
    "high_flw=account_file.loc[account_file.flw>per_nn_flw ]\n",
    "print(high_flw[['flw', 'class']])"
   ]
  },
  {
   "cell_type": "code",
   "execution_count": 28,
   "id": "729e85d9",
   "metadata": {},
   "outputs": [
    {
     "data": {
      "text/plain": [
       "<AxesSubplot:>"
      ]
     },
     "execution_count": 28,
     "metadata": {},
     "output_type": "execute_result"
    },
    {
     "data": {
      "image/png": "[encoded data removed]",
      "text/plain": [
       "<Figure size 432x288 with 1 Axes>"
      ]
     },
     "metadata": {
      "needs_background": "light"
     },
     "output_type": "display_data"
    }
   ],
   "source": [
    "q=account_file.flw.quantile(0.95)\n",
    "\n",
    "flw_b=account_file.flw[account_file.flw<q]\n",
    "flw_b.count()\n",
    "flw_b.hist()\n"
   ]
  },
  {
   "cell_type": "code",
   "execution_count": 29,
   "id": "f00b9f9a",
   "metadata": {},
   "outputs": [
    {
     "name": "stdout",
     "output_type": "stream",
     "text": [
      "-162\n"
     ]
    }
   ],
   "source": [
    "# caption_len_avg,the captions avarage length column have a negative min value. This cannot be possible, there is a mistake in the data. \n",
    "# this feature's values have to be checked\n",
    "\n",
    "freq=account_file.caption_len_avg.value_counts()\n",
    "sorted_freq=freq.sort_values()\n",
    "#account_file.caption_len_avg.()\n",
    "\n",
    "account_file.caption_len_avg.min()\n",
    "negative=account_file.caption_len_avg<0\n",
    "print(account_file.caption_len_avg[negative].sum())"
   ]
  },
  {
   "cell_type": "code",
   "execution_count": 30,
   "id": "8178ba94",
   "metadata": {},
   "outputs": [
    {
     "data": {
      "text/plain": [
       "-1    162\n",
       "Name: caption_len_avg, dtype: int64"
      ]
     },
     "execution_count": 30,
     "metadata": {},
     "output_type": "execute_result"
    }
   ],
   "source": [
    "# There 162 values -1, we can refer to these as missing values.\n",
    "account_file.caption_len_avg[negative].value_counts()"
   ]
  },
  {
   "cell_type": "code",
   "execution_count": 31,
   "id": "cc0e5e43",
   "metadata": {},
   "outputs": [
    {
     "name": "stdout",
     "output_type": "stream",
     "text": [
      "3\n",
      "1\n"
     ]
    }
   ],
   "source": [
    "# likes_rate feature is also very skewed. It has 75 percentile of 18 and 26650.\n",
    "# There is a need to check for outliers and see if these are incorrect values.\n",
    "per_nn=account_file.likes_rate.quantile(0.99)\n",
    "outl=account_file.likes_rate> per_nn\n",
    "outl_sorted=account_file.likes_rate[outl].sort_values()\n",
    "print(outl_sorted[outl_sorted >5000].count())\n",
    "print(outl_sorted[outl_sorted >6000].count())\n",
    "#outl_sorted.value_counts().sum()\n",
    "\n",
    "#only 3 people had more than 5000 ranks\n",
    "#only 1 person more than 6000 which was 26650 an unexpectedly high and can be a mistake or a fake account. \n",
    "#The high value can still be a problem since other fake accounts didn't have sucha high proportion of \"likes\".\n",
    "# Since this is engagemnet rate num likes divided by num media divide by num followers can be unusual?"
   ]
  },
  {
   "cell_type": "code",
   "execution_count": 32,
   "id": "5bf279be",
   "metadata": {},
   "outputs": [
    {
     "name": "stdout",
     "output_type": "stream",
     "text": [
      "24868    f\n",
      "25335    f\n",
      "27647    f\n",
      "Name: class, dtype: object\n"
     ]
    }
   ],
   "source": [
    "high_likes=account_file.loc[account_file.likes_rate> 5000]\n",
    "#print(high_likes)\n",
    "\n",
    "high_likes_class=high_likes['class']\n",
    "print(high_likes_class)\n",
    "\n",
    "#The outliers are all fake accounts"
   ]
  },
  {
   "cell_type": "code",
   "execution_count": 33,
   "id": "cde327cd",
   "metadata": {},
   "outputs": [
    {
     "name": "stdout",
     "output_type": "stream",
     "text": [
      "11.93999958\n",
      "37292      11.950000\n",
      "29648      11.950000\n",
      "38733      11.960000\n",
      "12932      12.000000\n",
      "64709      12.000000\n",
      "            ...     \n",
      "14258     283.329987\n",
      "24868     300.000000\n",
      "21909     344.130005\n",
      "27647     400.000000\n",
      "32690    1009.090027\n",
      "Name: comment_rate, Length: 653, dtype: float64\n",
      "1\n"
     ]
    }
   ],
   "source": [
    "# Similarily there is a need to check the column \"comment_rate\"\n",
    "\n",
    "per_nn_cr=account_file.comment_rate.quantile(0.99)\n",
    "print(per_nn_cr)\n",
    "outl_cr=account_file.comment_rate> per_nn_cr\n",
    "print(account_file.comment_rate[outl_cr].sort_values())\n",
    "print(account_file.comment_rate[ account_file.comment_rate>400].count())\n",
    "\n",
    "# only one was unusually high , higher than 400. 1009.1"
   ]
  },
  {
   "cell_type": "code",
   "execution_count": null,
   "id": "78b3c70f",
   "metadata": {},
   "outputs": [],
   "source": []
  },
  {
   "cell_type": "code",
   "execution_count": 34,
   "id": "62235e9d",
   "metadata": {},
   "outputs": [
    {
     "name": "stdout",
     "output_type": "stream",
     "text": [
      "4.4289999008\n",
      "363       0.0\n",
      "39974     0.0\n",
      "39868     0.0\n",
      "39777     0.0\n",
      "39613     0.0\n",
      "         ... \n",
      "51025    19.0\n",
      "57061    19.0\n",
      "14295    21.5\n",
      "19019    25.0\n",
      "24237    29.0\n",
      "Name: hash_count, Length: 653, dtype: float64\n",
      "11\n"
     ]
    }
   ],
   "source": [
    "#hash_count was checked as well. It looks like 99% were under 4.43. The rest are part of the distribution no unusual values.\n",
    "\n",
    "per_nn_hc=account_file.hash_count.quantile(0.99)\n",
    "print(per_nn_hc)\n",
    "outl_hc=account_file.hash_count> per_nn_hc\n",
    "print(account_file.hash_count[outl_cr].sort_values())\n",
    "print(account_file.hash_count[account_file.hash_count>25].count())"
   ]
  },
  {
   "cell_type": "code",
   "execution_count": 35,
   "id": "cca5c7be",
   "metadata": {},
   "outputs": [
    {
     "data": {
      "text/plain": [
       "<AxesSubplot:>"
      ]
     },
     "execution_count": 35,
     "metadata": {},
     "output_type": "execute_result"
    },
    {
     "data": {
      "image/png": "[encoded data removed]",
      "text/plain": [
       "<Figure size 432x288 with 1 Axes>"
      ]
     },
     "metadata": {
      "needs_background": "light"
     },
     "output_type": "display_data"
    }
   ],
   "source": [
    "#account_file.posts.hist(bins=5)\n",
    "\n",
    "#plt.hist(account_file['posts'],bins=5)\n",
    "\n",
    "q_posts=account_file.posts.quantile(0.75)\n",
    "q2_posts=account_file.posts.quantile(0.25)\n",
    "\n",
    "posts_a=account_file.posts[account_file.posts<q_posts]\n",
    "posts_a.hist()"
   ]
  },
  {
   "cell_type": "code",
   "execution_count": 36,
   "id": "77783927",
   "metadata": {},
   "outputs": [
    {
     "data": {
      "text/plain": [
       "<AxesSubplot:>"
      ]
     },
     "execution_count": 36,
     "metadata": {},
     "output_type": "execute_result"
    },
    {
     "data": {
      "image/png": "[encoded data removed]",
      "text/plain": [
       "<Figure size 432x288 with 1 Axes>"
      ]
     },
     "metadata": {
      "needs_background": "light"
     },
     "output_type": "display_data"
    }
   ],
   "source": [
    "posts_b=posts_a[posts_a>q2_posts]\n",
    "posts_b.count()\n",
    "posts_b.hist()"
   ]
  },
  {
   "cell_type": "code",
   "execution_count": 37,
   "id": "a562a539",
   "metadata": {},
   "outputs": [
    {
     "data": {
      "text/plain": [
       "f    32866\n",
       "r    32460\n",
       "Name: class, dtype: int64"
      ]
     },
     "execution_count": 37,
     "metadata": {},
     "output_type": "execute_result"
    }
   ],
   "source": [
    "# The target column has almost half fake and half real accounts.\n",
    "account_file[\"class\"].value_counts()"
   ]
  },
  {
   "cell_type": "code",
   "execution_count": 38,
   "id": "f43bdb2a",
   "metadata": {},
   "outputs": [
    {
     "data": {
      "text/html": [
       "<div>\n",
       "<style scoped>\n",
       "    .dataframe tbody tr th:only-of-type {\n",
       "        vertical-align: middle;\n",
       "    }\n",
       "\n",
       "    .dataframe tbody tr th {\n",
       "        vertical-align: top;\n",
       "    }\n",
       "\n",
       "    .dataframe thead th {\n",
       "        text-align: right;\n",
       "    }\n",
       "</style>\n",
       "<table border=\"1\" class=\"dataframe\">\n",
       "  <thead>\n",
       "    <tr style=\"text-align: right;\">\n",
       "      <th></th>\n",
       "      <th>posts</th>\n",
       "      <th>flw</th>\n",
       "      <th>flg</th>\n",
       "      <th>bio_len</th>\n",
       "      <th>pic</th>\n",
       "      <th>link</th>\n",
       "      <th>caption_len_avg</th>\n",
       "      <th>cap_zero_per</th>\n",
       "      <th>no_image_per</th>\n",
       "      <th>likes_rate</th>\n",
       "      <th>comment_rate</th>\n",
       "      <th>loc_tag</th>\n",
       "      <th>hash_count</th>\n",
       "      <th>pr</th>\n",
       "      <th>fo_keyword_avg</th>\n",
       "      <th>cosine_sim_avg</th>\n",
       "      <th>post_interval</th>\n",
       "      <th>class</th>\n",
       "    </tr>\n",
       "  </thead>\n",
       "  <tbody>\n",
       "    <tr>\n",
       "      <th>2524</th>\n",
       "      <td>0</td>\n",
       "      <td>30</td>\n",
       "      <td>149</td>\n",
       "      <td>0</td>\n",
       "      <td>1</td>\n",
       "      <td>0</td>\n",
       "      <td>0</td>\n",
       "      <td>0.0</td>\n",
       "      <td>0.0</td>\n",
       "      <td>0.0</td>\n",
       "      <td>0.0</td>\n",
       "      <td>0.0</td>\n",
       "      <td>0.0</td>\n",
       "      <td>0.0</td>\n",
       "      <td>0.0</td>\n",
       "      <td>1.0</td>\n",
       "      <td>0.0</td>\n",
       "      <td>f</td>\n",
       "    </tr>\n",
       "    <tr>\n",
       "      <th>3584</th>\n",
       "      <td>0</td>\n",
       "      <td>0</td>\n",
       "      <td>0</td>\n",
       "      <td>0</td>\n",
       "      <td>0</td>\n",
       "      <td>0</td>\n",
       "      <td>-1</td>\n",
       "      <td>0.0</td>\n",
       "      <td>0.0</td>\n",
       "      <td>0.0</td>\n",
       "      <td>0.0</td>\n",
       "      <td>0.0</td>\n",
       "      <td>0.0</td>\n",
       "      <td>0.0</td>\n",
       "      <td>0.0</td>\n",
       "      <td>0.0</td>\n",
       "      <td>0.0</td>\n",
       "      <td>f</td>\n",
       "    </tr>\n",
       "    <tr>\n",
       "      <th>4118</th>\n",
       "      <td>0</td>\n",
       "      <td>0</td>\n",
       "      <td>0</td>\n",
       "      <td>0</td>\n",
       "      <td>0</td>\n",
       "      <td>0</td>\n",
       "      <td>-1</td>\n",
       "      <td>0.0</td>\n",
       "      <td>0.0</td>\n",
       "      <td>0.0</td>\n",
       "      <td>0.0</td>\n",
       "      <td>0.0</td>\n",
       "      <td>0.0</td>\n",
       "      <td>0.0</td>\n",
       "      <td>0.0</td>\n",
       "      <td>0.0</td>\n",
       "      <td>0.0</td>\n",
       "      <td>f</td>\n",
       "    </tr>\n",
       "    <tr>\n",
       "      <th>4165</th>\n",
       "      <td>0</td>\n",
       "      <td>30</td>\n",
       "      <td>149</td>\n",
       "      <td>0</td>\n",
       "      <td>1</td>\n",
       "      <td>0</td>\n",
       "      <td>0</td>\n",
       "      <td>0.0</td>\n",
       "      <td>0.0</td>\n",
       "      <td>0.0</td>\n",
       "      <td>0.0</td>\n",
       "      <td>0.0</td>\n",
       "      <td>0.0</td>\n",
       "      <td>0.0</td>\n",
       "      <td>0.0</td>\n",
       "      <td>1.0</td>\n",
       "      <td>0.0</td>\n",
       "      <td>f</td>\n",
       "    </tr>\n",
       "    <tr>\n",
       "      <th>5714</th>\n",
       "      <td>0</td>\n",
       "      <td>0</td>\n",
       "      <td>0</td>\n",
       "      <td>0</td>\n",
       "      <td>1</td>\n",
       "      <td>0</td>\n",
       "      <td>0</td>\n",
       "      <td>0.0</td>\n",
       "      <td>0.0</td>\n",
       "      <td>0.0</td>\n",
       "      <td>0.0</td>\n",
       "      <td>0.0</td>\n",
       "      <td>0.0</td>\n",
       "      <td>0.0</td>\n",
       "      <td>0.0</td>\n",
       "      <td>1.0</td>\n",
       "      <td>0.0</td>\n",
       "      <td>f</td>\n",
       "    </tr>\n",
       "    <tr>\n",
       "      <th>...</th>\n",
       "      <td>...</td>\n",
       "      <td>...</td>\n",
       "      <td>...</td>\n",
       "      <td>...</td>\n",
       "      <td>...</td>\n",
       "      <td>...</td>\n",
       "      <td>...</td>\n",
       "      <td>...</td>\n",
       "      <td>...</td>\n",
       "      <td>...</td>\n",
       "      <td>...</td>\n",
       "      <td>...</td>\n",
       "      <td>...</td>\n",
       "      <td>...</td>\n",
       "      <td>...</td>\n",
       "      <td>...</td>\n",
       "      <td>...</td>\n",
       "      <td>...</td>\n",
       "    </tr>\n",
       "    <tr>\n",
       "      <th>32745</th>\n",
       "      <td>0</td>\n",
       "      <td>0</td>\n",
       "      <td>0</td>\n",
       "      <td>0</td>\n",
       "      <td>0</td>\n",
       "      <td>0</td>\n",
       "      <td>-1</td>\n",
       "      <td>0.0</td>\n",
       "      <td>0.0</td>\n",
       "      <td>0.0</td>\n",
       "      <td>0.0</td>\n",
       "      <td>0.0</td>\n",
       "      <td>0.0</td>\n",
       "      <td>0.0</td>\n",
       "      <td>0.0</td>\n",
       "      <td>0.0</td>\n",
       "      <td>0.0</td>\n",
       "      <td>f</td>\n",
       "    </tr>\n",
       "    <tr>\n",
       "      <th>32747</th>\n",
       "      <td>0</td>\n",
       "      <td>34</td>\n",
       "      <td>7500</td>\n",
       "      <td>0</td>\n",
       "      <td>1</td>\n",
       "      <td>0</td>\n",
       "      <td>0</td>\n",
       "      <td>0.0</td>\n",
       "      <td>0.0</td>\n",
       "      <td>0.0</td>\n",
       "      <td>0.0</td>\n",
       "      <td>0.0</td>\n",
       "      <td>0.0</td>\n",
       "      <td>0.0</td>\n",
       "      <td>0.0</td>\n",
       "      <td>1.0</td>\n",
       "      <td>0.0</td>\n",
       "      <td>f</td>\n",
       "    </tr>\n",
       "    <tr>\n",
       "      <th>32748</th>\n",
       "      <td>0</td>\n",
       "      <td>77</td>\n",
       "      <td>7400</td>\n",
       "      <td>0</td>\n",
       "      <td>1</td>\n",
       "      <td>0</td>\n",
       "      <td>0</td>\n",
       "      <td>0.0</td>\n",
       "      <td>0.0</td>\n",
       "      <td>0.0</td>\n",
       "      <td>0.0</td>\n",
       "      <td>0.0</td>\n",
       "      <td>0.0</td>\n",
       "      <td>0.0</td>\n",
       "      <td>0.0</td>\n",
       "      <td>1.0</td>\n",
       "      <td>0.0</td>\n",
       "      <td>f</td>\n",
       "    </tr>\n",
       "    <tr>\n",
       "      <th>32749</th>\n",
       "      <td>0</td>\n",
       "      <td>70</td>\n",
       "      <td>7300</td>\n",
       "      <td>0</td>\n",
       "      <td>0</td>\n",
       "      <td>0</td>\n",
       "      <td>0</td>\n",
       "      <td>0.0</td>\n",
       "      <td>0.0</td>\n",
       "      <td>0.0</td>\n",
       "      <td>0.0</td>\n",
       "      <td>0.0</td>\n",
       "      <td>0.0</td>\n",
       "      <td>0.0</td>\n",
       "      <td>0.0</td>\n",
       "      <td>1.0</td>\n",
       "      <td>0.0</td>\n",
       "      <td>f</td>\n",
       "    </tr>\n",
       "    <tr>\n",
       "      <th>32764</th>\n",
       "      <td>0</td>\n",
       "      <td>0</td>\n",
       "      <td>0</td>\n",
       "      <td>0</td>\n",
       "      <td>0</td>\n",
       "      <td>0</td>\n",
       "      <td>-1</td>\n",
       "      <td>0.0</td>\n",
       "      <td>0.0</td>\n",
       "      <td>0.0</td>\n",
       "      <td>0.0</td>\n",
       "      <td>0.0</td>\n",
       "      <td>0.0</td>\n",
       "      <td>0.0</td>\n",
       "      <td>0.0</td>\n",
       "      <td>0.0</td>\n",
       "      <td>0.0</td>\n",
       "      <td>f</td>\n",
       "    </tr>\n",
       "  </tbody>\n",
       "</table>\n",
       "<p>1460 rows × 18 columns</p>\n",
       "</div>"
      ],
      "text/plain": [
       "       posts  flw   flg  bio_len  pic  link  caption_len_avg  cap_zero_per  \\\n",
       "2524       0   30   149        0    1     0                0           0.0   \n",
       "3584       0    0     0        0    0     0               -1           0.0   \n",
       "4118       0    0     0        0    0     0               -1           0.0   \n",
       "4165       0   30   149        0    1     0                0           0.0   \n",
       "5714       0    0     0        0    1     0                0           0.0   \n",
       "...      ...  ...   ...      ...  ...   ...              ...           ...   \n",
       "32745      0    0     0        0    0     0               -1           0.0   \n",
       "32747      0   34  7500        0    1     0                0           0.0   \n",
       "32748      0   77  7400        0    1     0                0           0.0   \n",
       "32749      0   70  7300        0    0     0                0           0.0   \n",
       "32764      0    0     0        0    0     0               -1           0.0   \n",
       "\n",
       "       no_image_per  likes_rate  comment_rate  loc_tag  hash_count   pr  \\\n",
       "2524            0.0         0.0           0.0      0.0         0.0  0.0   \n",
       "3584            0.0         0.0           0.0      0.0         0.0  0.0   \n",
       "4118            0.0         0.0           0.0      0.0         0.0  0.0   \n",
       "4165            0.0         0.0           0.0      0.0         0.0  0.0   \n",
       "5714            0.0         0.0           0.0      0.0         0.0  0.0   \n",
       "...             ...         ...           ...      ...         ...  ...   \n",
       "32745           0.0         0.0           0.0      0.0         0.0  0.0   \n",
       "32747           0.0         0.0           0.0      0.0         0.0  0.0   \n",
       "32748           0.0         0.0           0.0      0.0         0.0  0.0   \n",
       "32749           0.0         0.0           0.0      0.0         0.0  0.0   \n",
       "32764           0.0         0.0           0.0      0.0         0.0  0.0   \n",
       "\n",
       "       fo_keyword_avg  cosine_sim_avg  post_interval class  \n",
       "2524              0.0             1.0            0.0     f  \n",
       "3584              0.0             0.0            0.0     f  \n",
       "4118              0.0             0.0            0.0     f  \n",
       "4165              0.0             1.0            0.0     f  \n",
       "5714              0.0             1.0            0.0     f  \n",
       "...               ...             ...            ...   ...  \n",
       "32745             0.0             0.0            0.0     f  \n",
       "32747             0.0             1.0            0.0     f  \n",
       "32748             0.0             1.0            0.0     f  \n",
       "32749             0.0             1.0            0.0     f  \n",
       "32764             0.0             0.0            0.0     f  \n",
       "\n",
       "[1460 rows x 18 columns]"
      ]
     },
     "execution_count": 38,
     "metadata": {},
     "output_type": "execute_result"
    }
   ],
   "source": [
    "duplicated=account_file.duplicated(keep=False)\n",
    "duplicated.sum()\n",
    "account_file[duplicated]"
   ]
  },
  {
   "cell_type": "code",
   "execution_count": 39,
   "id": "49b7ca9e",
   "metadata": {},
   "outputs": [
    {
     "data": {
      "text/html": [
       "<div>\n",
       "<style scoped>\n",
       "    .dataframe tbody tr th:only-of-type {\n",
       "        vertical-align: middle;\n",
       "    }\n",
       "\n",
       "    .dataframe tbody tr th {\n",
       "        vertical-align: top;\n",
       "    }\n",
       "\n",
       "    .dataframe thead th {\n",
       "        text-align: right;\n",
       "    }\n",
       "</style>\n",
       "<table border=\"1\" class=\"dataframe\">\n",
       "  <thead>\n",
       "    <tr style=\"text-align: right;\">\n",
       "      <th></th>\n",
       "      <th>flg</th>\n",
       "      <th>caption_len_avg</th>\n",
       "      <th>class</th>\n",
       "    </tr>\n",
       "  </thead>\n",
       "  <tbody>\n",
       "    <tr>\n",
       "      <th>2524</th>\n",
       "      <td>149</td>\n",
       "      <td>0</td>\n",
       "      <td>f</td>\n",
       "    </tr>\n",
       "    <tr>\n",
       "      <th>3584</th>\n",
       "      <td>0</td>\n",
       "      <td>-1</td>\n",
       "      <td>f</td>\n",
       "    </tr>\n",
       "    <tr>\n",
       "      <th>4118</th>\n",
       "      <td>0</td>\n",
       "      <td>-1</td>\n",
       "      <td>f</td>\n",
       "    </tr>\n",
       "    <tr>\n",
       "      <th>4165</th>\n",
       "      <td>149</td>\n",
       "      <td>0</td>\n",
       "      <td>f</td>\n",
       "    </tr>\n",
       "    <tr>\n",
       "      <th>5714</th>\n",
       "      <td>0</td>\n",
       "      <td>0</td>\n",
       "      <td>f</td>\n",
       "    </tr>\n",
       "    <tr>\n",
       "      <th>...</th>\n",
       "      <td>...</td>\n",
       "      <td>...</td>\n",
       "      <td>...</td>\n",
       "    </tr>\n",
       "    <tr>\n",
       "      <th>32745</th>\n",
       "      <td>0</td>\n",
       "      <td>-1</td>\n",
       "      <td>f</td>\n",
       "    </tr>\n",
       "    <tr>\n",
       "      <th>32747</th>\n",
       "      <td>7500</td>\n",
       "      <td>0</td>\n",
       "      <td>f</td>\n",
       "    </tr>\n",
       "    <tr>\n",
       "      <th>32748</th>\n",
       "      <td>7400</td>\n",
       "      <td>0</td>\n",
       "      <td>f</td>\n",
       "    </tr>\n",
       "    <tr>\n",
       "      <th>32749</th>\n",
       "      <td>7300</td>\n",
       "      <td>0</td>\n",
       "      <td>f</td>\n",
       "    </tr>\n",
       "    <tr>\n",
       "      <th>32764</th>\n",
       "      <td>0</td>\n",
       "      <td>-1</td>\n",
       "      <td>f</td>\n",
       "    </tr>\n",
       "  </tbody>\n",
       "</table>\n",
       "<p>1460 rows × 3 columns</p>\n",
       "</div>"
      ],
      "text/plain": [
       "        flg  caption_len_avg class\n",
       "2524    149                0     f\n",
       "3584      0               -1     f\n",
       "4118      0               -1     f\n",
       "4165    149                0     f\n",
       "5714      0                0     f\n",
       "...     ...              ...   ...\n",
       "32745     0               -1     f\n",
       "32747  7500                0     f\n",
       "32748  7400                0     f\n",
       "32749  7300                0     f\n",
       "32764     0               -1     f\n",
       "\n",
       "[1460 rows x 3 columns]"
      ]
     },
     "execution_count": 39,
     "metadata": {},
     "output_type": "execute_result"
    }
   ],
   "source": [
    "account_file[['flg', 'caption_len_avg','class']][duplicated]\n"
   ]
  },
  {
   "cell_type": "code",
   "execution_count": 40,
   "id": "67a41b84",
   "metadata": {},
   "outputs": [
    {
     "name": "stdout",
     "output_type": "stream",
     "text": [
      "f    1460\n",
      "Name: class, dtype: int64\n"
     ]
    },
    {
     "data": {
      "text/plain": [
       " 0    1298\n",
       "-1     162\n",
       "Name: caption_len_avg, dtype: int64"
      ]
     },
     "execution_count": 40,
     "metadata": {},
     "output_type": "execute_result"
    }
   ],
   "source": [
    "print(account_file[duplicated]['class'].value_counts())\n",
    "# All the identified duplicates are false accounts.\n",
    "\n",
    "account_file[duplicated]['caption_len_avg'].value_counts()"
   ]
  },
  {
   "cell_type": "code",
   "execution_count": 41,
   "id": "932ceb47",
   "metadata": {},
   "outputs": [
    {
     "data": {
      "text/html": [
       "<div>\n",
       "<style scoped>\n",
       "    .dataframe tbody tr th:only-of-type {\n",
       "        vertical-align: middle;\n",
       "    }\n",
       "\n",
       "    .dataframe tbody tr th {\n",
       "        vertical-align: top;\n",
       "    }\n",
       "\n",
       "    .dataframe thead th {\n",
       "        text-align: right;\n",
       "    }\n",
       "</style>\n",
       "<table border=\"1\" class=\"dataframe\">\n",
       "  <thead>\n",
       "    <tr style=\"text-align: right;\">\n",
       "      <th></th>\n",
       "      <th>flg</th>\n",
       "      <th>caption_len_avg</th>\n",
       "      <th>class</th>\n",
       "    </tr>\n",
       "  </thead>\n",
       "  <tbody>\n",
       "    <tr>\n",
       "      <th>32764</th>\n",
       "      <td>0</td>\n",
       "      <td>-1</td>\n",
       "      <td>f</td>\n",
       "    </tr>\n",
       "    <tr>\n",
       "      <th>21604</th>\n",
       "      <td>0</td>\n",
       "      <td>-1</td>\n",
       "      <td>f</td>\n",
       "    </tr>\n",
       "    <tr>\n",
       "      <th>21661</th>\n",
       "      <td>0</td>\n",
       "      <td>0</td>\n",
       "      <td>f</td>\n",
       "    </tr>\n",
       "    <tr>\n",
       "      <th>21686</th>\n",
       "      <td>0</td>\n",
       "      <td>-1</td>\n",
       "      <td>f</td>\n",
       "    </tr>\n",
       "    <tr>\n",
       "      <th>21689</th>\n",
       "      <td>0</td>\n",
       "      <td>-1</td>\n",
       "      <td>f</td>\n",
       "    </tr>\n",
       "    <tr>\n",
       "      <th>...</th>\n",
       "      <td>...</td>\n",
       "      <td>...</td>\n",
       "      <td>...</td>\n",
       "    </tr>\n",
       "    <tr>\n",
       "      <th>29718</th>\n",
       "      <td>7500</td>\n",
       "      <td>0</td>\n",
       "      <td>f</td>\n",
       "    </tr>\n",
       "    <tr>\n",
       "      <th>31534</th>\n",
       "      <td>7500</td>\n",
       "      <td>0</td>\n",
       "      <td>f</td>\n",
       "    </tr>\n",
       "    <tr>\n",
       "      <th>29772</th>\n",
       "      <td>7500</td>\n",
       "      <td>0</td>\n",
       "      <td>f</td>\n",
       "    </tr>\n",
       "    <tr>\n",
       "      <th>32247</th>\n",
       "      <td>7500</td>\n",
       "      <td>0</td>\n",
       "      <td>f</td>\n",
       "    </tr>\n",
       "    <tr>\n",
       "      <th>29966</th>\n",
       "      <td>7500</td>\n",
       "      <td>0</td>\n",
       "      <td>f</td>\n",
       "    </tr>\n",
       "  </tbody>\n",
       "</table>\n",
       "<p>1460 rows × 3 columns</p>\n",
       "</div>"
      ],
      "text/plain": [
       "        flg  caption_len_avg class\n",
       "32764     0               -1     f\n",
       "21604     0               -1     f\n",
       "21661     0                0     f\n",
       "21686     0               -1     f\n",
       "21689     0               -1     f\n",
       "...     ...              ...   ...\n",
       "29718  7500                0     f\n",
       "31534  7500                0     f\n",
       "29772  7500                0     f\n",
       "32247  7500                0     f\n",
       "29966  7500                0     f\n",
       "\n",
       "[1460 rows x 3 columns]"
      ]
     },
     "execution_count": 41,
     "metadata": {},
     "output_type": "execute_result"
    }
   ],
   "source": [
    "account_file[duplicated][['flg', 'caption_len_avg','class']].sort_values(by='flg')"
   ]
  },
  {
   "cell_type": "code",
   "execution_count": 42,
   "id": "a7730898",
   "metadata": {},
   "outputs": [
    {
     "name": "stdout",
     "output_type": "stream",
     "text": [
      "<class 'pandas.core.frame.DataFrame'>\n",
      "Int64Index: 65164 entries, 0 to 65325\n",
      "Data columns (total 18 columns):\n",
      " #   Column           Non-Null Count  Dtype  \n",
      "---  ------           --------------  -----  \n",
      " 0   posts            65164 non-null  int64  \n",
      " 1   flw              65164 non-null  int64  \n",
      " 2   flg              65164 non-null  int64  \n",
      " 3   bio_len          65164 non-null  int64  \n",
      " 4   pic              65164 non-null  int64  \n",
      " 5   link             65164 non-null  int64  \n",
      " 6   caption_len_avg  65164 non-null  int64  \n",
      " 7   cap_zero_per     65164 non-null  float64\n",
      " 8   no_image_per     65164 non-null  float64\n",
      " 9   likes_rate       65164 non-null  float64\n",
      " 10  comment_rate     65164 non-null  float64\n",
      " 11  loc_tag          65164 non-null  float64\n",
      " 12  hash_count       65164 non-null  float64\n",
      " 13  pr               65164 non-null  float64\n",
      " 14  fo_keyword_avg   65164 non-null  float64\n",
      " 15  cosine_sim_avg   65164 non-null  float64\n",
      " 16  post_interval    65164 non-null  float64\n",
      " 17  class            65164 non-null  object \n",
      "dtypes: float64(10), int64(7), object(1)\n",
      "memory usage: 9.4+ MB\n"
     ]
    }
   ],
   "source": [
    "#The 162 missing values were droped as they are a small proportion of data, have mostly duplicates and we will not loose  alot of information\n",
    "account=account_file[~negative]\n",
    "account.info()\n"
   ]
  },
  {
   "cell_type": "code",
   "execution_count": 43,
   "id": "228d5616",
   "metadata": {},
   "outputs": [
    {
     "data": {
      "text/html": [
       "<div>\n",
       "<style scoped>\n",
       "    .dataframe tbody tr th:only-of-type {\n",
       "        vertical-align: middle;\n",
       "    }\n",
       "\n",
       "    .dataframe tbody tr th {\n",
       "        vertical-align: top;\n",
       "    }\n",
       "\n",
       "    .dataframe thead th {\n",
       "        text-align: right;\n",
       "    }\n",
       "</style>\n",
       "<table border=\"1\" class=\"dataframe\">\n",
       "  <thead>\n",
       "    <tr style=\"text-align: right;\">\n",
       "      <th></th>\n",
       "      <th>posts</th>\n",
       "      <th>flw</th>\n",
       "      <th>flg</th>\n",
       "      <th>bio_len</th>\n",
       "      <th>pic</th>\n",
       "      <th>link</th>\n",
       "      <th>caption_len_avg</th>\n",
       "      <th>cap_zero_per</th>\n",
       "      <th>no_image_per</th>\n",
       "      <th>likes_rate</th>\n",
       "      <th>comment_rate</th>\n",
       "      <th>loc_tag</th>\n",
       "      <th>hash_count</th>\n",
       "      <th>pr</th>\n",
       "      <th>fo_keyword_avg</th>\n",
       "      <th>cosine_sim_avg</th>\n",
       "      <th>post_interval</th>\n",
       "      <th>class</th>\n",
       "    </tr>\n",
       "  </thead>\n",
       "  <tbody>\n",
       "    <tr>\n",
       "      <th>0</th>\n",
       "      <td>44</td>\n",
       "      <td>48</td>\n",
       "      <td>325</td>\n",
       "      <td>33</td>\n",
       "      <td>1</td>\n",
       "      <td>0</td>\n",
       "      <td>12</td>\n",
       "      <td>0.0</td>\n",
       "      <td>0.0</td>\n",
       "      <td>0.00</td>\n",
       "      <td>0.00</td>\n",
       "      <td>0.000</td>\n",
       "      <td>0.0</td>\n",
       "      <td>0.0</td>\n",
       "      <td>0.000</td>\n",
       "      <td>0.111111</td>\n",
       "      <td>0.094985</td>\n",
       "      <td>f</td>\n",
       "    </tr>\n",
       "    <tr>\n",
       "      <th>1</th>\n",
       "      <td>10</td>\n",
       "      <td>66</td>\n",
       "      <td>321</td>\n",
       "      <td>150</td>\n",
       "      <td>1</td>\n",
       "      <td>0</td>\n",
       "      <td>213</td>\n",
       "      <td>0.0</td>\n",
       "      <td>1.0</td>\n",
       "      <td>14.39</td>\n",
       "      <td>1.97</td>\n",
       "      <td>0.000</td>\n",
       "      <td>1.5</td>\n",
       "      <td>0.0</td>\n",
       "      <td>0.000</td>\n",
       "      <td>0.206826</td>\n",
       "      <td>230.412857</td>\n",
       "      <td>f</td>\n",
       "    </tr>\n",
       "    <tr>\n",
       "      <th>2</th>\n",
       "      <td>33</td>\n",
       "      <td>970</td>\n",
       "      <td>308</td>\n",
       "      <td>101</td>\n",
       "      <td>1</td>\n",
       "      <td>1</td>\n",
       "      <td>436</td>\n",
       "      <td>0.0</td>\n",
       "      <td>1.0</td>\n",
       "      <td>10.10</td>\n",
       "      <td>0.30</td>\n",
       "      <td>0.000</td>\n",
       "      <td>2.5</td>\n",
       "      <td>0.0</td>\n",
       "      <td>0.056</td>\n",
       "      <td>0.572174</td>\n",
       "      <td>43.569939</td>\n",
       "      <td>f</td>\n",
       "    </tr>\n",
       "    <tr>\n",
       "      <th>3</th>\n",
       "      <td>70</td>\n",
       "      <td>86</td>\n",
       "      <td>360</td>\n",
       "      <td>14</td>\n",
       "      <td>1</td>\n",
       "      <td>0</td>\n",
       "      <td>0</td>\n",
       "      <td>1.0</td>\n",
       "      <td>0.0</td>\n",
       "      <td>0.78</td>\n",
       "      <td>0.06</td>\n",
       "      <td>0.000</td>\n",
       "      <td>0.0</td>\n",
       "      <td>0.0</td>\n",
       "      <td>0.000</td>\n",
       "      <td>1.000000</td>\n",
       "      <td>5.859799</td>\n",
       "      <td>f</td>\n",
       "    </tr>\n",
       "    <tr>\n",
       "      <th>4</th>\n",
       "      <td>3</td>\n",
       "      <td>21</td>\n",
       "      <td>285</td>\n",
       "      <td>73</td>\n",
       "      <td>1</td>\n",
       "      <td>0</td>\n",
       "      <td>93</td>\n",
       "      <td>0.0</td>\n",
       "      <td>0.0</td>\n",
       "      <td>14.29</td>\n",
       "      <td>0.00</td>\n",
       "      <td>0.667</td>\n",
       "      <td>0.0</td>\n",
       "      <td>0.0</td>\n",
       "      <td>0.000</td>\n",
       "      <td>0.300494</td>\n",
       "      <td>0.126019</td>\n",
       "      <td>f</td>\n",
       "    </tr>\n",
       "  </tbody>\n",
       "</table>\n",
       "</div>"
      ],
      "text/plain": [
       "   posts  flw  flg  bio_len  pic  link  caption_len_avg  cap_zero_per  \\\n",
       "0     44   48  325       33    1     0               12           0.0   \n",
       "1     10   66  321      150    1     0              213           0.0   \n",
       "2     33  970  308      101    1     1              436           0.0   \n",
       "3     70   86  360       14    1     0                0           1.0   \n",
       "4      3   21  285       73    1     0               93           0.0   \n",
       "\n",
       "   no_image_per  likes_rate  comment_rate  loc_tag  hash_count   pr  \\\n",
       "0           0.0        0.00          0.00    0.000         0.0  0.0   \n",
       "1           1.0       14.39          1.97    0.000         1.5  0.0   \n",
       "2           1.0       10.10          0.30    0.000         2.5  0.0   \n",
       "3           0.0        0.78          0.06    0.000         0.0  0.0   \n",
       "4           0.0       14.29          0.00    0.667         0.0  0.0   \n",
       "\n",
       "   fo_keyword_avg  cosine_sim_avg  post_interval class  \n",
       "0           0.000        0.111111       0.094985     f  \n",
       "1           0.000        0.206826     230.412857     f  \n",
       "2           0.056        0.572174      43.569939     f  \n",
       "3           0.000        1.000000       5.859799     f  \n",
       "4           0.000        0.300494       0.126019     f  "
      ]
     },
     "execution_count": 43,
     "metadata": {},
     "output_type": "execute_result"
    }
   ],
   "source": [
    "#This is the non duplicates dataframe. \n",
    "account_nodup=account.drop_duplicates(keep='first')\n",
    "account_nodup.head()"
   ]
  },
  {
   "cell_type": "code",
   "execution_count": 160,
   "id": "948c8ad0",
   "metadata": {},
   "outputs": [
    {
     "name": "stdout",
     "output_type": "stream",
     "text": [
      "<class 'pandas.core.frame.DataFrame'>\n",
      "Int64Index: 64243 entries, 0 to 65325\n",
      "Data columns (total 15 columns):\n",
      " #   Column           Non-Null Count  Dtype  \n",
      "---  ------           --------------  -----  \n",
      " 0   posts            64243 non-null  int64  \n",
      " 1   flw              64243 non-null  int64  \n",
      " 2   flg              64243 non-null  int64  \n",
      " 3   pic              64243 non-null  int64  \n",
      " 4   link             64243 non-null  int64  \n",
      " 5   caption_len_avg  64243 non-null  int64  \n",
      " 6   cap_zero_per     64243 non-null  float64\n",
      " 7   no_image_per     64243 non-null  float64\n",
      " 8   likes_rate       64243 non-null  float64\n",
      " 9   comment_rate     64243 non-null  float64\n",
      " 10  loc_tag          64243 non-null  float64\n",
      " 11  hash_count       64243 non-null  float64\n",
      " 12  cosine_sim_avg   64243 non-null  float64\n",
      " 13  post_interval    64243 non-null  float64\n",
      " 14  class            64243 non-null  object \n",
      "dtypes: float64(8), int64(6), object(1)\n",
      "memory usage: 7.8+ MB\n"
     ]
    }
   ],
   "source": [
    "#The columns with 84 % and 89% 0 values will be droped. \n",
    "account_clean=account_nodup.drop([\"pr\",\"fo_keyword_avg\",'bio_len'], axis=1)\n",
    "account_clean.info()"
   ]
  },
  {
   "cell_type": "code",
   "execution_count": 161,
   "id": "d8b251aa",
   "metadata": {},
   "outputs": [
    {
     "data": {
      "text/html": [
       "<div>\n",
       "<style scoped>\n",
       "    .dataframe tbody tr th:only-of-type {\n",
       "        vertical-align: middle;\n",
       "    }\n",
       "\n",
       "    .dataframe tbody tr th {\n",
       "        vertical-align: top;\n",
       "    }\n",
       "\n",
       "    .dataframe thead th {\n",
       "        text-align: right;\n",
       "    }\n",
       "</style>\n",
       "<table border=\"1\" class=\"dataframe\">\n",
       "  <thead>\n",
       "    <tr style=\"text-align: right;\">\n",
       "      <th></th>\n",
       "      <th>posts</th>\n",
       "      <th>flw</th>\n",
       "      <th>flg</th>\n",
       "      <th>pic</th>\n",
       "      <th>link</th>\n",
       "      <th>caption_len_avg</th>\n",
       "      <th>cap_zero_per</th>\n",
       "      <th>no_image_per</th>\n",
       "      <th>likes_rate</th>\n",
       "      <th>comment_rate</th>\n",
       "      <th>loc_tag</th>\n",
       "      <th>hash_count</th>\n",
       "      <th>cosine_sim_avg</th>\n",
       "      <th>post_interval</th>\n",
       "      <th>class</th>\n",
       "    </tr>\n",
       "  </thead>\n",
       "  <tbody>\n",
       "    <tr>\n",
       "      <th>0</th>\n",
       "      <td>44</td>\n",
       "      <td>48</td>\n",
       "      <td>325</td>\n",
       "      <td>1</td>\n",
       "      <td>0</td>\n",
       "      <td>12</td>\n",
       "      <td>0.0</td>\n",
       "      <td>0.0</td>\n",
       "      <td>0.00</td>\n",
       "      <td>0.00</td>\n",
       "      <td>0.000</td>\n",
       "      <td>0.0</td>\n",
       "      <td>0.111111</td>\n",
       "      <td>0.094985</td>\n",
       "      <td>f</td>\n",
       "    </tr>\n",
       "    <tr>\n",
       "      <th>1</th>\n",
       "      <td>10</td>\n",
       "      <td>66</td>\n",
       "      <td>321</td>\n",
       "      <td>1</td>\n",
       "      <td>0</td>\n",
       "      <td>213</td>\n",
       "      <td>0.0</td>\n",
       "      <td>1.0</td>\n",
       "      <td>14.39</td>\n",
       "      <td>1.97</td>\n",
       "      <td>0.000</td>\n",
       "      <td>1.5</td>\n",
       "      <td>0.206826</td>\n",
       "      <td>230.412857</td>\n",
       "      <td>f</td>\n",
       "    </tr>\n",
       "    <tr>\n",
       "      <th>2</th>\n",
       "      <td>33</td>\n",
       "      <td>970</td>\n",
       "      <td>308</td>\n",
       "      <td>1</td>\n",
       "      <td>1</td>\n",
       "      <td>436</td>\n",
       "      <td>0.0</td>\n",
       "      <td>1.0</td>\n",
       "      <td>10.10</td>\n",
       "      <td>0.30</td>\n",
       "      <td>0.000</td>\n",
       "      <td>2.5</td>\n",
       "      <td>0.572174</td>\n",
       "      <td>43.569939</td>\n",
       "      <td>f</td>\n",
       "    </tr>\n",
       "    <tr>\n",
       "      <th>3</th>\n",
       "      <td>70</td>\n",
       "      <td>86</td>\n",
       "      <td>360</td>\n",
       "      <td>1</td>\n",
       "      <td>0</td>\n",
       "      <td>0</td>\n",
       "      <td>1.0</td>\n",
       "      <td>0.0</td>\n",
       "      <td>0.78</td>\n",
       "      <td>0.06</td>\n",
       "      <td>0.000</td>\n",
       "      <td>0.0</td>\n",
       "      <td>1.000000</td>\n",
       "      <td>5.859799</td>\n",
       "      <td>f</td>\n",
       "    </tr>\n",
       "    <tr>\n",
       "      <th>4</th>\n",
       "      <td>3</td>\n",
       "      <td>21</td>\n",
       "      <td>285</td>\n",
       "      <td>1</td>\n",
       "      <td>0</td>\n",
       "      <td>93</td>\n",
       "      <td>0.0</td>\n",
       "      <td>0.0</td>\n",
       "      <td>14.29</td>\n",
       "      <td>0.00</td>\n",
       "      <td>0.667</td>\n",
       "      <td>0.0</td>\n",
       "      <td>0.300494</td>\n",
       "      <td>0.126019</td>\n",
       "      <td>f</td>\n",
       "    </tr>\n",
       "  </tbody>\n",
       "</table>\n",
       "</div>"
      ],
      "text/plain": [
       "   posts  flw  flg  pic  link  caption_len_avg  cap_zero_per  no_image_per  \\\n",
       "0     44   48  325    1     0               12           0.0           0.0   \n",
       "1     10   66  321    1     0              213           0.0           1.0   \n",
       "2     33  970  308    1     1              436           0.0           1.0   \n",
       "3     70   86  360    1     0                0           1.0           0.0   \n",
       "4      3   21  285    1     0               93           0.0           0.0   \n",
       "\n",
       "   likes_rate  comment_rate  loc_tag  hash_count  cosine_sim_avg  \\\n",
       "0        0.00          0.00    0.000         0.0        0.111111   \n",
       "1       14.39          1.97    0.000         1.5        0.206826   \n",
       "2       10.10          0.30    0.000         2.5        0.572174   \n",
       "3        0.78          0.06    0.000         0.0        1.000000   \n",
       "4       14.29          0.00    0.667         0.0        0.300494   \n",
       "\n",
       "   post_interval class  \n",
       "0       0.094985     f  \n",
       "1     230.412857     f  \n",
       "2      43.569939     f  \n",
       "3       5.859799     f  \n",
       "4       0.126019     f  "
      ]
     },
     "execution_count": 161,
     "metadata": {},
     "output_type": "execute_result"
    }
   ],
   "source": [
    "account_clean.head()"
   ]
  },
  {
   "cell_type": "code",
   "execution_count": 162,
   "id": "fc053461",
   "metadata": {},
   "outputs": [
    {
     "name": "stdout",
     "output_type": "stream",
     "text": [
      "0          44\n",
      "1          10\n",
      "2          33\n",
      "3          70\n",
      "4           3\n",
      "         ... \n",
      "65321      13\n",
      "65322     652\n",
      "65323    1500\n",
      "65324     329\n",
      "65325     206\n",
      "Name: posts, Length: 63587, dtype: int64\n"
     ]
    },
    {
     "data": {
      "image/png": "[encoded data removed]",
      "text/plain": [
       "<Figure size 432x288 with 1 Axes>"
      ]
     },
     "metadata": {
      "needs_background": "light"
     },
     "output_type": "display_data"
    }
   ],
   "source": [
    "# Now I will systematicly check and trim the remaining features. I created a function that will trim outliers\n",
    "# by excluding values above 99th perccentile and will plot a histogram. \n",
    "\n",
    "\n",
    "def trim(column, quantile):\n",
    "    q=column.quantile(quantile)\n",
    "    column_a=column[column<q]\n",
    "    return column_a.value_counts(), column_a.hist(), column_a\n",
    "\n",
    "count,hist, posts_a=trim(account_clean.posts, 0.99)\n",
    "\n",
    "print(posts_a)\n",
    "#print(account_clean.posts.value_counts())\n"
   ]
  },
  {
   "cell_type": "code",
   "execution_count": 135,
   "id": "94800a50",
   "metadata": {},
   "outputs": [
    {
     "name": "stdout",
     "output_type": "stream",
     "text": [
      "0          48\n",
      "1          66\n",
      "2         970\n",
      "3          86\n",
      "4          21\n",
      "         ... \n",
      "65321     145\n",
      "65322    3000\n",
      "65323    3700\n",
      "65324    1500\n",
      "65325     659\n",
      "Name: flw, Length: 63595, dtype: int64\n"
     ]
    },
    {
     "data": {
      "image/png": "[encoded data removed]",
      "text/plain": [
       "<Figure size 432x288 with 1 Axes>"
      ]
     },
     "metadata": {
      "needs_background": "light"
     },
     "output_type": "display_data"
    }
   ],
   "source": [
    "#print(account_clean.flw.value_counts())\n",
    "\n",
    "x,y,flw_a=trim(account_clean.flw, 0.99)\n",
    "print(flw_a)"
   ]
  },
  {
   "cell_type": "code",
   "execution_count": 138,
   "id": "ce0b9960",
   "metadata": {},
   "outputs": [
    {
     "name": "stdout",
     "output_type": "stream",
     "text": [
      "0         325\n",
      "1         321\n",
      "2         308\n",
      "3         360\n",
      "4         285\n",
      "         ... \n",
      "65321     642\n",
      "65322    1300\n",
      "65323    3200\n",
      "65324    1800\n",
      "65325     608\n",
      "Name: flg, Length: 62071, dtype: int64\n"
     ]
    },
    {
     "data": {
      "image/png": "[encoded data removed]",
      "text/plain": [
       "<Figure size 432x288 with 1 Axes>"
      ]
     },
     "metadata": {
      "needs_background": "light"
     },
     "output_type": "display_data"
    }
   ],
   "source": [
    "#print(account_clean.flg.value_counts())\n",
    "\n",
    "count,hist, flg_a=trim(account_clean.flg, 0.99)\n",
    "\n",
    "print(flg_a)"
   ]
  },
  {
   "cell_type": "code",
   "execution_count": 140,
   "id": "69c6031c",
   "metadata": {},
   "outputs": [
    {
     "name": "stdout",
     "output_type": "stream",
     "text": [
      "0         12\n",
      "1        213\n",
      "2        436\n",
      "3          0\n",
      "4         93\n",
      "        ... \n",
      "65321      7\n",
      "65322    384\n",
      "65323    129\n",
      "65324    290\n",
      "65325     77\n",
      "Name: caption_len_avg, Length: 63599, dtype: int64\n"
     ]
    },
    {
     "data": {
      "image/png": "[encoded data removed]",
      "text/plain": [
       "<Figure size 432x288 with 1 Axes>"
      ]
     },
     "metadata": {
      "needs_background": "light"
     },
     "output_type": "display_data"
    }
   ],
   "source": [
    "  #print(account_clean.caption_len_avg.value_counts())\n",
    "\n",
    "count,hist, cap_a=trim(account_clean.caption_len_avg, 0.99)\n",
    "\n",
    "print(cap_a)"
   ]
  },
  {
   "cell_type": "code",
   "execution_count": 141,
   "id": "507138a2",
   "metadata": {},
   "outputs": [
    {
     "name": "stdout",
     "output_type": "stream",
     "text": [
      "0        0.000\n",
      "1        1.500\n",
      "2        2.500\n",
      "3        0.000\n",
      "4        0.000\n",
      "         ...  \n",
      "65321    0.077\n",
      "65322    1.611\n",
      "65323    0.000\n",
      "65324    0.500\n",
      "65325    0.222\n",
      "Name: hash_count, Length: 63597, dtype: float64\n",
      "45.56531855616447\n"
     ]
    },
    {
     "data": {
      "image/png": "[encoded data removed]",
      "text/plain": [
       "<Figure size 432x288 with 1 Axes>"
      ]
     },
     "metadata": {
      "needs_background": "light"
     },
     "output_type": "display_data"
    }
   ],
   "source": [
    "\n",
    "count,hist,hash_a=trim(account_clean.hash_count, 0.99)\n",
    "\n",
    "print(hash_a)\n",
    "    \n",
    "print(29766*100/len(account_file.hash_count))\n",
    "\n",
    "#This shows that qlmost 50% of the data has the value 0."
   ]
  },
  {
   "cell_type": "code",
   "execution_count": 153,
   "id": "0b209f24",
   "metadata": {},
   "outputs": [
    {
     "name": "stdout",
     "output_type": "stream",
     "text": [
      "0     0.00\n",
      "1    14.39\n",
      "2    10.10\n",
      "3     0.78\n",
      "4    14.29\n",
      "Name: likes_rate, dtype: float64\n"
     ]
    },
    {
     "data": {
      "image/png": "[encoded data removed]",
      "text/plain": [
       "<Figure size 432x288 with 1 Axes>"
      ]
     },
     "metadata": {
      "needs_background": "light"
     },
     "output_type": "display_data"
    }
   ],
   "source": [
    "\n",
    "count,hist,likes_a=trim(account_clean.likes_rate, 0.99)\n",
    "\n",
    "print(likes_a.head()) \n",
    "#print(count)"
   ]
  },
  {
   "cell_type": "code",
   "execution_count": 152,
   "id": "d5919640",
   "metadata": {},
   "outputs": [
    {
     "name": "stdout",
     "output_type": "stream",
     "text": [
      "0    0.00\n",
      "1    1.97\n",
      "2    0.30\n",
      "3    0.06\n",
      "4    0.00\n",
      "Name: comment_rate, dtype: float64\n"
     ]
    },
    {
     "data": {
      "image/png": "[encoded data removed]",
      "text/plain": [
       "<Figure size 432x288 with 1 Axes>"
      ]
     },
     "metadata": {
      "needs_background": "light"
     },
     "output_type": "display_data"
    }
   ],
   "source": [
    "\n",
    "count,hist,comment_r_a=trim(account_clean.comment_rate, 0.99)\n",
    "\n",
    "print(comment_r_a.head())\n",
    "#print(count)"
   ]
  },
  {
   "cell_type": "code",
   "execution_count": 150,
   "id": "7a10e565",
   "metadata": {},
   "outputs": [
    {
     "name": "stdout",
     "output_type": "stream",
     "text": [
      "0     12\n",
      "1    213\n",
      "2    436\n",
      "3      0\n",
      "4     93\n",
      "Name: caption_len_avg, dtype: int64\n",
      "0      10142\n",
      "3        759\n",
      "2        727\n",
      "1        720\n",
      "7        671\n",
      "       ...  \n",
      "883        1\n",
      "915        1\n",
      "947        1\n",
      "830        1\n",
      "959        1\n",
      "Name: caption_len_avg, Length: 983, dtype: int64\n"
     ]
    },
    {
     "data": {
      "image/png": "[encoded data removed]",
      "text/plain": [
       "<Figure size 432x288 with 1 Axes>"
      ]
     },
     "metadata": {
      "needs_background": "light"
     },
     "output_type": "display_data"
    }
   ],
   "source": [
    "\n",
    "count,hist,cap_avg_a=trim(account_clean.caption_len_avg, 0.99)\n",
    "\n",
    "print(cap_avg_a.head())\n",
    "#print(count)"
   ]
  },
  {
   "cell_type": "code",
   "execution_count": 154,
   "id": "089ebd2b",
   "metadata": {},
   "outputs": [
    {
     "name": "stdout",
     "output_type": "stream",
     "text": [
      "0      0.094985\n",
      "1    230.412857\n",
      "2     43.569939\n",
      "3      5.859799\n",
      "4      0.126019\n",
      "Name: post_interval, dtype: float64\n"
     ]
    },
    {
     "data": {
      "image/png": "[encoded data removed]",
      "text/plain": [
       "<Figure size 432x288 with 1 Axes>"
      ]
     },
     "metadata": {
      "needs_background": "light"
     },
     "output_type": "display_data"
    }
   ],
   "source": [
    "count,hist,post_interval_a=trim(account_clean.post_interval, 0.99)\n",
    "\n",
    "print(post_interval_a.head())"
   ]
  },
  {
   "cell_type": "code",
   "execution_count": 163,
   "id": "86d4d177",
   "metadata": {},
   "outputs": [],
   "source": [
    "# The clean data will be saved to a new file. The new columns will be used in the next notebook. \n",
    "\n",
    "account_clean.to_csv('../accounts_data_cleaned.csv')"
   ]
  },
  {
   "cell_type": "code",
   "execution_count": null,
   "id": "62921939",
   "metadata": {},
   "outputs": [],
   "source": [
    "#q_account=account_file.quantile(0.75)\n",
    "#account=account_file[account_file>account_file.quantile(0.75)]\n",
    "#account.hist(figsize=(15, 10))\n",
    "#plt.subplots_adjust(hspace=0.5);\n"
   ]
  }
 ],
 "metadata": {
  "kernelspec": {
   "display_name": "Python 3",
   "language": "python",
   "name": "python3"
  },
  "language_info": {
   "codemirror_mode": {
    "name": "ipython",
    "version": 3
   },
   "file_extension": ".py",
   "mimetype": "text/x-python",
   "name": "python",
   "nbconvert_exporter": "python",
   "pygments_lexer": "ipython3",
   "version": "3.8.8"
  }
 },
 "nbformat": 4,
 "nbformat_minor": 5
}
